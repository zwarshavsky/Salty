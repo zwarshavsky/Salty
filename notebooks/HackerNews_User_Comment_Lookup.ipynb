{
 "cells": [
  {
   "cell_type": "markdown",
   "metadata": {},
   "source": [
    "https://github.com/avinassh/haxor\n",
    "\n",
    "`pip install haxor`"
   ]
  },
  {
   "cell_type": "code",
   "execution_count": 1,
   "metadata": {},
   "outputs": [],
   "source": [
    "from hackernews import HackerNews"
   ]
  },
  {
   "cell_type": "code",
   "execution_count": 2,
   "metadata": {},
   "outputs": [],
   "source": [
    "hn = HackerNews()"
   ]
  },
  {
   "cell_type": "code",
   "execution_count": 101,
   "metadata": {},
   "outputs": [
    {
     "data": {
      "text/plain": [
       "['__class__',\n",
       " '__delattr__',\n",
       " '__dict__',\n",
       " '__dir__',\n",
       " '__doc__',\n",
       " '__eq__',\n",
       " '__format__',\n",
       " '__ge__',\n",
       " '__getattribute__',\n",
       " '__gt__',\n",
       " '__hash__',\n",
       " '__init__',\n",
       " '__init_subclass__',\n",
       " '__le__',\n",
       " '__lt__',\n",
       " '__module__',\n",
       " '__ne__',\n",
       " '__new__',\n",
       " '__reduce__',\n",
       " '__reduce_ex__',\n",
       " '__repr__',\n",
       " '__setattr__',\n",
       " '__sizeof__',\n",
       " '__str__',\n",
       " '__subclasshook__',\n",
       " '__weakref__',\n",
       " '_async_loop',\n",
       " '_get_async',\n",
       " '_get_stories',\n",
       " '_get_sync',\n",
       " '_run_async',\n",
       " 'ask_stories',\n",
       " 'base_url',\n",
       " 'get_all',\n",
       " 'get_item',\n",
       " 'get_items_by_ids',\n",
       " 'get_last',\n",
       " 'get_max_item',\n",
       " 'get_user',\n",
       " 'get_users_by_ids',\n",
       " 'item_url',\n",
       " 'job_stories',\n",
       " 'new_stories',\n",
       " 'session',\n",
       " 'show_stories',\n",
       " 'top_stories',\n",
       " 'updates',\n",
       " 'user_url']"
      ]
     },
     "execution_count": 101,
     "metadata": {},
     "output_type": "execute_result"
    }
   ],
   "source": [
    "dir(hn)"
   ]
  },
  {
   "cell_type": "code",
   "execution_count": 85,
   "metadata": {},
   "outputs": [],
   "source": [
    "user = hn.get_user('dhouston',expand=True)"
   ]
  },
  {
   "cell_type": "code",
   "execution_count": 5,
   "metadata": {},
   "outputs": [],
   "source": [
    "import nest_asyncio"
   ]
  },
  {
   "cell_type": "code",
   "execution_count": 6,
   "metadata": {},
   "outputs": [],
   "source": [
    "nest_asyncio.apply()"
   ]
  },
  {
   "cell_type": "code",
   "execution_count": 88,
   "metadata": {},
   "outputs": [],
   "source": [
    "user = hn.get_user('dhouston',expand=True)"
   ]
  },
  {
   "cell_type": "code",
   "execution_count": 89,
   "metadata": {},
   "outputs": [
    {
     "data": {
      "text/plain": [
       "[<hackernews.Item: 1481914 - Dropbox is hiring a Web Engineer>,\n",
       " <hackernews.Item: 1481829 - None>,\n",
       " <hackernews.Item: 1481820 - None>,\n",
       " <hackernews.Item: 1318781 - From Zero to a Million Users - Dropbox and Xobni Lessons Learned>,\n",
       " <hackernews.Item: 301605 - Dropbox finally launches to the public (YC summer 07)>,\n",
       " <hackernews.Item: 287700 - TechCrunch gets a facelift>,\n",
       " <hackernews.Item: 282099 - Adam Smith (Xobni) in Technology Review's 35 under 35>,\n",
       " <hackernews.Item: 178013 - None>,\n",
       " <hackernews.Item: 85747 - How to name your company: Igor Naming Guide>,\n",
       " <hackernews.Item: 81371 - Shared Mutable Memory Must Die>,\n",
       " <hackernews.Item: 81201 - In Korea, a Boot Camp Cure for Web Obsession>,\n",
       " <hackernews.Item: 76447 - YC Summer '07 Draftmix launches: Faster Fantasy Sports for Fun or Profit>,\n",
       " <hackernews.Item: 70149 - Rejection letter from summer 05>,\n",
       " <hackernews.Item: 58668 - Mozy acquired by EMC for $76MM>,\n",
       " <hackernews.Item: 48414 - The Startup Game: How Anywhere.fm is building a hit niche>,\n",
       " <hackernews.Item: 40005 - The Fuzzwich Cartoon Maker (yc summer 07)>,\n",
       " <hackernews.Item: 38267 - Greed Is Good and Ugly>,\n",
       " <hackernews.Item: 23917 - Dealing with Subscription Payments>,\n",
       " <hackernews.Item: 20022 - Reminder: Boston YC meetup: Tonight 7pm Espresso Royale>,\n",
       " <hackernews.Item: 10667 - Students: yet another summer founders program (due 4/19): Highland Capital Partners>,\n",
       " <hackernews.Item: 8863 - My YC app: Dropbox - Throw away your USB drive>]"
      ]
     },
     "execution_count": 89,
     "metadata": {},
     "output_type": "execute_result"
    }
   ],
   "source": [
    "user.stories"
   ]
  },
  {
   "cell_type": "code",
   "execution_count": 37,
   "metadata": {},
   "outputs": [
    {
     "data": {
      "text/plain": [
       "['__call__',\n",
       " '__class__',\n",
       " '__delattr__',\n",
       " '__dir__',\n",
       " '__doc__',\n",
       " '__eq__',\n",
       " '__format__',\n",
       " '__func__',\n",
       " '__ge__',\n",
       " '__get__',\n",
       " '__getattribute__',\n",
       " '__gt__',\n",
       " '__hash__',\n",
       " '__init__',\n",
       " '__init_subclass__',\n",
       " '__le__',\n",
       " '__lt__',\n",
       " '__ne__',\n",
       " '__new__',\n",
       " '__reduce__',\n",
       " '__reduce_ex__',\n",
       " '__repr__',\n",
       " '__self__',\n",
       " '__setattr__',\n",
       " '__sizeof__',\n",
       " '__str__',\n",
       " '__subclasshook__']"
      ]
     },
     "execution_count": 37,
     "metadata": {},
     "output_type": "execute_result"
    }
   ],
   "source": [
    "dir(hn.get_items_by_ids)"
   ]
  },
  {
   "cell_type": "code",
   "execution_count": 28,
   "metadata": {},
   "outputs": [
    {
     "data": {
      "text/plain": [
       "[<hackernews.Item: 70149 - Rejection letter from summer 05>,\n",
       " <hackernews.Item: 2345 - The Best Buy Scam.>]"
      ]
     },
     "execution_count": 28,
     "metadata": {},
     "output_type": "execute_result"
    }
   ],
   "source": [
    "hn.get_items_by_ids([70149, 37236, 2345], item_type='story')"
   ]
  },
  {
   "cell_type": "code",
   "execution_count": 31,
   "metadata": {},
   "outputs": [
    {
     "name": "stdout",
     "output_type": "stream",
     "text": [
      "<hackernews.Item: 21561005 - Scale AI is hiring engineers to accelerate the development of AI>\n"
     ]
    }
   ],
   "source": [
    "stories = hn.top_stories()\n",
    "for story in stories:\n",
    "    if story.item_type == 'job':\n",
    "        print(story)"
   ]
  },
  {
   "cell_type": "code",
   "execution_count": 43,
   "metadata": {},
   "outputs": [],
   "source": [
    "who_is_hiring = hn.get_item(70149, expand=True)"
   ]
  },
  {
   "cell_type": "code",
   "execution_count": 44,
   "metadata": {},
   "outputs": [
    {
     "data": {
      "text/plain": [
       "[<hackernews.Item: 70165 - None>,\n",
       " <hackernews.Item: 70166 - None>,\n",
       " <hackernews.Item: 70404 - None>,\n",
       " <hackernews.Item: 70372 - None>]"
      ]
     },
     "execution_count": 44,
     "metadata": {},
     "output_type": "execute_result"
    }
   ],
   "source": [
    "who_is_hiring.kids"
   ]
  },
  {
   "cell_type": "markdown",
   "metadata": {},
   "source": [
    "# The Code"
   ]
  },
  {
   "cell_type": "code",
   "execution_count": 92,
   "metadata": {},
   "outputs": [],
   "source": [
    "user = hn.get_user('ryanspahn', expand=True)"
   ]
  },
  {
   "cell_type": "code",
   "execution_count": null,
   "metadata": {},
   "outputs": [],
   "source": [
    "user.comments"
   ]
  },
  {
   "cell_type": "code",
   "execution_count": null,
   "metadata": {},
   "outputs": [],
   "source": [
    "for comment in user.comments:\n",
    "    print(comment.kids,comment.text)"
   ]
  },
  {
   "cell_type": "code",
   "execution_count": null,
   "metadata": {},
   "outputs": [],
   "source": [
    "comments = {}\n",
    "for comment in user.comments:\n",
    "    if comment.kids is not None:\n",
    "        comments.update({comment.item_id:comment.text})\n",
    "        for comment in comment.kids:\n",
    "            print(hn.get_item(comment).kids)\n",
    "        #         hn.get_item(70149, expand=True)\n",
    "    else:\n",
    "        comments.update({\"None\":comment.text})\n",
    "\n",
    "comments"
   ]
  },
  {
   "cell_type": "code",
   "execution_count": 113,
   "metadata": {},
   "outputs": [
    {
     "data": {
      "text/plain": [
       "['__abs__',\n",
       " '__add__',\n",
       " '__and__',\n",
       " '__bool__',\n",
       " '__ceil__',\n",
       " '__class__',\n",
       " '__delattr__',\n",
       " '__dir__',\n",
       " '__divmod__',\n",
       " '__doc__',\n",
       " '__eq__',\n",
       " '__float__',\n",
       " '__floor__',\n",
       " '__floordiv__',\n",
       " '__format__',\n",
       " '__ge__',\n",
       " '__getattribute__',\n",
       " '__getnewargs__',\n",
       " '__gt__',\n",
       " '__hash__',\n",
       " '__index__',\n",
       " '__init__',\n",
       " '__init_subclass__',\n",
       " '__int__',\n",
       " '__invert__',\n",
       " '__le__',\n",
       " '__lshift__',\n",
       " '__lt__',\n",
       " '__mod__',\n",
       " '__mul__',\n",
       " '__ne__',\n",
       " '__neg__',\n",
       " '__new__',\n",
       " '__or__',\n",
       " '__pos__',\n",
       " '__pow__',\n",
       " '__radd__',\n",
       " '__rand__',\n",
       " '__rdivmod__',\n",
       " '__reduce__',\n",
       " '__reduce_ex__',\n",
       " '__repr__',\n",
       " '__rfloordiv__',\n",
       " '__rlshift__',\n",
       " '__rmod__',\n",
       " '__rmul__',\n",
       " '__ror__',\n",
       " '__round__',\n",
       " '__rpow__',\n",
       " '__rrshift__',\n",
       " '__rshift__',\n",
       " '__rsub__',\n",
       " '__rtruediv__',\n",
       " '__rxor__',\n",
       " '__setattr__',\n",
       " '__sizeof__',\n",
       " '__str__',\n",
       " '__sub__',\n",
       " '__subclasshook__',\n",
       " '__truediv__',\n",
       " '__trunc__',\n",
       " '__xor__',\n",
       " 'bit_length',\n",
       " 'conjugate',\n",
       " 'denominator',\n",
       " 'from_bytes',\n",
       " 'imag',\n",
       " 'numerator',\n",
       " 'real',\n",
       " 'to_bytes']"
      ]
     },
     "execution_count": 113,
     "metadata": {},
     "output_type": "execute_result"
    }
   ],
   "source": [
    "dir(user.comments[1].item_id)"
   ]
  },
  {
   "cell_type": "code",
   "execution_count": 90,
   "metadata": {},
   "outputs": [
    {
     "name": "stdout",
     "output_type": "stream",
     "text": [
      "[<hackernews.Item: 21100352 - None>, <hackernews.Item: 16660140 - None>, <hackernews.Item: 15692914 - None>, <hackernews.Item: 7677676 - None>, <hackernews.Item: 5381694 - None>, <hackernews.Item: 4681366 - None>, <hackernews.Item: 3126506 - None>, <hackernews.Item: 2619215 - None>, <hackernews.Item: 2546317 - None>, <hackernews.Item: 2483496 - None>, <hackernews.Item: 2483247 - None>, <hackernews.Item: 2483142 - None>, <hackernews.Item: 2483128 - None>, <hackernews.Item: 2483053 - None>, <hackernews.Item: 2458356 - None>, <hackernews.Item: 2205416 - None>, <hackernews.Item: 2042194 - None>, <hackernews.Item: 1482664 - None>, <hackernews.Item: 1336454 - None>, <hackernews.Item: 1326280 - None>, <hackernews.Item: 1066946 - None>, <hackernews.Item: 990902 - None>, <hackernews.Item: 842676 - None>, <hackernews.Item: 842473 - None>, <hackernews.Item: 838923 - None>, <hackernews.Item: 777196 - None>, <hackernews.Item: 759644 - None>, <hackernews.Item: 726702 - None>, <hackernews.Item: 715584 - None>, <hackernews.Item: 639031 - None>, <hackernews.Item: 619119 - None>, <hackernews.Item: 590529 - None>, <hackernews.Item: 568156 - None>, <hackernews.Item: 562955 - None>, <hackernews.Item: 550582 - None>, <hackernews.Item: 550561 - None>, <hackernews.Item: 504010 - None>, <hackernews.Item: 496794 - None>, <hackernews.Item: 476621 - None>, <hackernews.Item: 467547 - None>, <hackernews.Item: 448850 - None>, <hackernews.Item: 447579 - None>, <hackernews.Item: 406963 - None>, <hackernews.Item: 403239 - None>, <hackernews.Item: 398218 - None>, <hackernews.Item: 391700 - None>, <hackernews.Item: 385139 - None>, <hackernews.Item: 375624 - None>, <hackernews.Item: 372640 - None>, <hackernews.Item: 371259 - None>, <hackernews.Item: 368905 - None>, <hackernews.Item: 368135 - None>, <hackernews.Item: 351319 - None>, <hackernews.Item: 350975 - None>, <hackernews.Item: 342146 - None>, <hackernews.Item: 331557 - None>, <hackernews.Item: 330469 - None>, <hackernews.Item: 308930 - None>, <hackernews.Item: 305625 - None>, <hackernews.Item: 298785 - None>, <hackernews.Item: 295641 - None>, <hackernews.Item: 295640 - None>, <hackernews.Item: 292199 - None>, <hackernews.Item: 289527 - None>, <hackernews.Item: 289525 - None>, <hackernews.Item: 267847 - None>, <hackernews.Item: 250233 - None>, <hackernews.Item: 240884 - None>, <hackernews.Item: 233559 - None>, <hackernews.Item: 215471 - None>, <hackernews.Item: 196757 - None>, <hackernews.Item: 194859 - None>, <hackernews.Item: 190110 - None>, <hackernews.Item: 183199 - None>, <hackernews.Item: 178100 - None>, <hackernews.Item: 178022 - None>, <hackernews.Item: 178014 - None>, <hackernews.Item: 174696 - None>, <hackernews.Item: 171432 - None>, <hackernews.Item: 167494 - None>, <hackernews.Item: 161473 - None>, <hackernews.Item: 155324 - None>, <hackernews.Item: 153816 - None>, <hackernews.Item: 148470 - None>, <hackernews.Item: 148420 - None>, <hackernews.Item: 136322 - None>, <hackernews.Item: 135012 - None>, <hackernews.Item: 134504 - None>, <hackernews.Item: 134439 - None>, <hackernews.Item: 127885 - None>, <hackernews.Item: 127276 - None>, <hackernews.Item: 125421 - None>, <hackernews.Item: 123713 - None>, <hackernews.Item: 123422 - None>, <hackernews.Item: 121009 - None>, <hackernews.Item: 120446 - None>, <hackernews.Item: 118557 - None>, <hackernews.Item: 115346 - None>, <hackernews.Item: 114772 - None>, <hackernews.Item: 114466 - None>, <hackernews.Item: 112877 - None>, <hackernews.Item: 112417 - None>, <hackernews.Item: 109910 - None>, <hackernews.Item: 109897 - None>, <hackernews.Item: 105905 - None>, <hackernews.Item: 105506 - None>, <hackernews.Item: 105480 - None>, <hackernews.Item: 99497 - None>, <hackernews.Item: 97848 - None>, <hackernews.Item: 97841 - None>, <hackernews.Item: 97802 - None>, <hackernews.Item: 95533 - None>, <hackernews.Item: 91108 - None>, <hackernews.Item: 91037 - None>, <hackernews.Item: 91035 - None>, <hackernews.Item: 89661 - None>, <hackernews.Item: 89253 - None>, <hackernews.Item: 86779 - None>, <hackernews.Item: 85748 - None>, <hackernews.Item: 85214 - None>, <hackernews.Item: 80907 - None>, <hackernews.Item: 80607 - None>, <hackernews.Item: 80015 - None>, <hackernews.Item: 78662 - None>, <hackernews.Item: 77889 - None>, <hackernews.Item: 77709 - None>, <hackernews.Item: 77359 - None>, <hackernews.Item: 76449 - None>, <hackernews.Item: 76206 - None>, <hackernews.Item: 76018 - None>, <hackernews.Item: 75420 - None>, <hackernews.Item: 75382 - None>, <hackernews.Item: 75334 - None>, <hackernews.Item: 75333 - None>, <hackernews.Item: 75299 - None>, <hackernews.Item: 72743 - None>, <hackernews.Item: 71377 - None>, <hackernews.Item: 71372 - None>, <hackernews.Item: 68269 - None>, <hackernews.Item: 66621 - None>, <hackernews.Item: 66176 - None>, <hackernews.Item: 65184 - None>, <hackernews.Item: 65069 - None>, <hackernews.Item: 64978 - None>, <hackernews.Item: 63352 - None>, <hackernews.Item: 63349 - None>, <hackernews.Item: 62953 - None>, <hackernews.Item: 62414 - None>, <hackernews.Item: 61946 - None>, <hackernews.Item: 59600 - None>, <hackernews.Item: 58712 - None>, <hackernews.Item: 58114 - None>, <hackernews.Item: 57345 - None>, <hackernews.Item: 56177 - None>, <hackernews.Item: 54160 - None>, <hackernews.Item: 53213 - None>, <hackernews.Item: 52308 - None>, <hackernews.Item: 47784 - None>, <hackernews.Item: 41387 - None>, <hackernews.Item: 41131 - None>, <hackernews.Item: 40010 - None>, <hackernews.Item: 39103 - None>, <hackernews.Item: 37747 - None>, <hackernews.Item: 36443 - None>, <hackernews.Item: 36210 - None>, <hackernews.Item: 36183 - None>, <hackernews.Item: 36173 - None>, <hackernews.Item: 36168 - None>, <hackernews.Item: 35894 - None>, <hackernews.Item: 35526 - None>, <hackernews.Item: 35103 - None>, <hackernews.Item: 33791 - None>, <hackernews.Item: 33211 - None>, <hackernews.Item: 32494 - None>, <hackernews.Item: 32356 - None>, <hackernews.Item: 31794 - None>, <hackernews.Item: 31021 - None>, <hackernews.Item: 30433 - None>, <hackernews.Item: 30415 - None>, <hackernews.Item: 30317 - None>, <hackernews.Item: 30316 - None>, <hackernews.Item: 29166 - None>, <hackernews.Item: 29146 - None>, <hackernews.Item: 28002 - None>, <hackernews.Item: 27304 - None>, <hackernews.Item: 26787 - None>, <hackernews.Item: 26560 - None>, <hackernews.Item: 26396 - None>, <hackernews.Item: 25340 - None>, <hackernews.Item: 25339 - None>, <hackernews.Item: 25297 - None>, <hackernews.Item: 25078 - None>, <hackernews.Item: 24028 - None>, <hackernews.Item: 23919 - None>, <hackernews.Item: 23137 - None>, <hackernews.Item: 22994 - None>, <hackernews.Item: 22000 - None>, <hackernews.Item: 20458 - None>, <hackernews.Item: 20457 - None>, <hackernews.Item: 20453 - None>, <hackernews.Item: 20023 - None>, <hackernews.Item: 18616 - None>, <hackernews.Item: 18025 - None>, <hackernews.Item: 18024 - None>, <hackernews.Item: 17828 - None>, <hackernews.Item: 17772 - None>, <hackernews.Item: 16743 - None>, <hackernews.Item: 16739 - None>, <hackernews.Item: 14709 - None>, <hackernews.Item: 14708 - None>, <hackernews.Item: 14347 - None>, <hackernews.Item: 12053 - None>, <hackernews.Item: 11748 - None>, <hackernews.Item: 11747 - None>, <hackernews.Item: 11698 - None>, <hackernews.Item: 11695 - None>, <hackernews.Item: 10938 - None>, <hackernews.Item: 10694 - None>, <hackernews.Item: 9353 - None>, <hackernews.Item: 9306 - None>, <hackernews.Item: 9272 - None>, <hackernews.Item: 9247 - None>, <hackernews.Item: 9083 - None>, <hackernews.Item: 8892 - None>, <hackernews.Item: 8889 - None>, <hackernews.Item: 8875 - None>, <hackernews.Item: 8874 - None>, <hackernews.Item: 8865 - None>, <hackernews.Item: 7437 - None>, <hackernews.Item: 7337 - None>, <hackernews.Item: 7336 - None>]\n"
     ]
    }
   ],
   "source": [
    "# def pull_comments():    \n",
    "#     comments = {}\n",
    "#     for comment in user.comments:\n",
    "#         if comment.kids is None:\n",
    "#             comments.update({\"None\":comment.text})\n",
    "#         else:\n",
    "#             pull_comments(comment.kids)\n",
    "#     return comments\n",
    "\n",
    "# pull_comments()\n",
    "\n",
    "print(user.comments)"
   ]
  },
  {
   "cell_type": "code",
   "execution_count": null,
   "metadata": {},
   "outputs": [],
   "source": [
    "# loop = asyncio.new_event_loop();\n",
    "# asyncio.set_event_loop(loop)"
   ]
  },
  {
   "cell_type": "markdown",
   "metadata": {},
   "source": [
    "# API Calls - Raw Data Collection"
   ]
  },
  {
   "cell_type": "code",
   "execution_count": 156,
   "metadata": {},
   "outputs": [],
   "source": [
    "import requests\n",
    "import json\n",
    "import pandas as pd"
   ]
  },
  {
   "cell_type": "code",
   "execution_count": 157,
   "metadata": {},
   "outputs": [],
   "source": [
    "user = requests.get('https://hacker-news.firebaseio.com/v0/user/amichail.json')"
   ]
  },
  {
   "cell_type": "code",
   "execution_count": 158,
   "metadata": {},
   "outputs": [],
   "source": [
    "user_stats = user.json()"
   ]
  },
  {
   "cell_type": "code",
   "execution_count": 161,
   "metadata": {},
   "outputs": [
    {
     "data": {
      "text/plain": [
       "('amichail', 1171931620)"
      ]
     },
     "execution_count": 161,
     "metadata": {},
     "output_type": "execute_result"
    }
   ],
   "source": [
    "user_stats[\"id\"],user_stats[\"created\"]"
   ]
  },
  {
   "cell_type": "code",
   "execution_count": 125,
   "metadata": {},
   "outputs": [],
   "source": [
    "test = requests.get('https://hacker-news.firebaseio.com/v0/item/1403.json')"
   ]
  },
  {
   "cell_type": "code",
   "execution_count": 126,
   "metadata": {},
   "outputs": [
    {
     "data": {
      "text/plain": [
       "<Response [200]>"
      ]
     },
     "execution_count": 126,
     "metadata": {},
     "output_type": "execute_result"
    }
   ],
   "source": [
    "test"
   ]
  },
  {
   "cell_type": "code",
   "execution_count": 127,
   "metadata": {},
   "outputs": [],
   "source": [
    "item_stats = test.json()"
   ]
  },
  {
   "cell_type": "code",
   "execution_count": 148,
   "metadata": {},
   "outputs": [
    {
     "data": {
      "text/plain": [
       "{'by': 'amichail',\n",
       " 'id': 1403,\n",
       " 'kids': [1418, 1502],\n",
       " 'parent': 1381,\n",
       " 'text': 'I am interested in collective intelligence: http://en.wikipedia.org/wiki/Collective_intelligence. How would you build a service where thousands of people collaborative to solve a problem, create a work of art, or play a game (e.g., chess)?',\n",
       " 'time': 1172600904,\n",
       " 'type': 'comment'}"
      ]
     },
     "execution_count": 148,
     "metadata": {},
     "output_type": "execute_result"
    }
   ],
   "source": [
    "item_stats"
   ]
  },
  {
   "cell_type": "code",
   "execution_count": 154,
   "metadata": {},
   "outputs": [
    {
     "data": {
      "text/plain": [
       "[1418, 1502]"
      ]
     },
     "execution_count": 154,
     "metadata": {},
     "output_type": "execute_result"
    }
   ],
   "source": [
    "def get_kids(item_stats):\n",
    "    if item_stats[\"kids\"] is None:\n",
    "        return \"No Kids\"\n",
    "    else:\n",
    "        return item_stats[\"kids\"]\n",
    "\n",
    "get_kids(item_stats)"
   ]
  },
  {
   "cell_type": "code",
   "execution_count": 153,
   "metadata": {},
   "outputs": [
    {
     "data": {
      "text/plain": [
       "{'by': 'amichail',\n",
       " 'id': 1408,\n",
       " 'parent': 1381,\n",
       " 'text': 'I am interested in seeing what happens when you apply intentional programming to web search:<p>http://youtube.com/watch?v=tSnnfUj1XCQ<p>http://youtube.com/watch?v=ZZDwB4-DPXE<p>The idea is to open up your search engine so that anyone can submit code for domain specific query entry, search, ranking, and presentation of results. Moreover, such code submissions would compete with each other, with more effective ones rising in popularity in their respective domains.<p>Unlike APIs that are currently available, the submissions made by users here would make up the core feature set of the service.',\n",
       " 'time': 1172602086,\n",
       " 'type': 'comment'}"
      ]
     },
     "execution_count": 153,
     "metadata": {},
     "output_type": "execute_result"
    }
   ],
   "source": [
    "def item_lookup(ItemId):\n",
    "    item = requests.get(f'https://hacker-news.firebaseio.com/v0/item/{ItemId}.json')\n",
    "    item_stats = item.json()\n",
    "    return item_stats\n",
    "\n",
    "item_lookup(1408)"
   ]
  },
  {
   "cell_type": "code",
   "execution_count": 163,
   "metadata": {},
   "outputs": [
    {
     "name": "stdout",
     "output_type": "stream",
     "text": [
      "/Users/user/Documents/GitHub/Lambda/DS-Unit-3-Build-Week/Salty/notebooks\n"
     ]
    }
   ],
   "source": [
    "!pwd"
   ]
  },
  {
   "cell_type": "code",
   "execution_count": 173,
   "metadata": {},
   "outputs": [
    {
     "data": {
      "text/plain": [
       "<sqlite3.Cursor at 0x115dc95e0>"
      ]
     },
     "execution_count": 173,
     "metadata": {},
     "output_type": "execute_result"
    }
   ],
   "source": [
    "# SQL Lite Db Schema Definition\n",
    "\n",
    "import sqlite3 \n",
    "\n",
    "# Troll Table: 1. <troll_name> user_stats[\"id\"] PRIMARY KEY 2. <date_created] user_stats[\"created\"] 3. salty_ranking  \n",
    "\n",
    "# Comments Table: 1. <comment_id> PRIMARY KEY 2. <troll_name> user_stats[\"id\"] - FOREIGN KEY 3. is_salty 4. <text>   \n",
    "\n",
    "conn = sqlite3.connect('/Users/user/Documents/GitHub/Lambda/DS-Unit-3-Build-Week/Salty/troll.sqlite3')\n",
    "curs = conn.cursor()\n",
    "create_table1 = 'CREATE TABLE troll (troll_name varchar(100) PRIMARY KEY, date_created bigint, salty_ranking int);' \n",
    "curs.execute(create_table1)\n",
    "                       \n",
    "conn = sqlite3.connect('/Users/user/Documents/GitHub/Lambda/DS-Unit-3-Build-Week/Salty/comments.sqlite3')\n",
    "curs = conn.cursor()\n",
    "create_table2 = 'CREATE TABLE comments (comment_id bigint PRIMARY KEY, troll_name varchar(100), is_salty int, text varchar(2500), date_created bigint);' \n",
    "curs.execute(create_table2)\n",
    "\n"
   ]
  },
  {
   "cell_type": "code",
   "execution_count": 180,
   "metadata": {},
   "outputs": [
    {
     "data": {
      "text/plain": [
       "4.172306945944977"
      ]
     },
     "execution_count": 180,
     "metadata": {},
     "output_type": "execute_result"
    }
   ],
   "source": [
    "import random\n",
    "\n",
    "random.uniform(1,10)"
   ]
  },
  {
   "cell_type": "code",
   "execution_count": 187,
   "metadata": {},
   "outputs": [],
   "source": [
    "d = [{\"comments_total\":888,\"date_created\":1172602086,\"salty_comments\":249,\"salty_rank\":7.54,\"troll_name\":\"amichail\"}]"
   ]
  },
  {
   "cell_type": "code",
   "execution_count": 189,
   "metadata": {},
   "outputs": [
    {
     "data": {
      "text/plain": [
       "[{'comments_total': 888,\n",
       "  'date_created': 1172602086,\n",
       "  'salty_comments': 249,\n",
       "  'salty_rank': 7.54,\n",
       "  'troll_name': 'amichail'},\n",
       " {'comments_total': 888,\n",
       "  'date_created': 1172602086,\n",
       "  'salty_comments': 249,\n",
       "  'salty_rank': 7.54,\n",
       "  'troll_name': 'amichail'}]"
      ]
     },
     "execution_count": 189,
     "metadata": {},
     "output_type": "execute_result"
    }
   ],
   "source": [
    "[d[0],d[0]]"
   ]
  },
  {
   "cell_type": "code",
   "execution_count": null,
   "metadata": {},
   "outputs": [],
   "source": []
  }
 ],
 "metadata": {
  "kernelspec": {
   "display_name": "Salty",
   "language": "python",
   "name": "salty"
  },
  "language_info": {
   "codemirror_mode": {
    "name": "ipython",
    "version": 3
   },
   "file_extension": ".py",
   "mimetype": "text/x-python",
   "name": "python",
   "nbconvert_exporter": "python",
   "pygments_lexer": "ipython3",
   "version": "3.7.4"
  }
 },
 "nbformat": 4,
 "nbformat_minor": 4
}
